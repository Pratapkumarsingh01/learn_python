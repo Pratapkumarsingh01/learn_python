{
  "nbformat": 4,
  "nbformat_minor": 0,
  "metadata": {
    "colab": {
      "provenance": [],
      "authorship_tag": "ABX9TyOSamXyejfZuDxd4+4yCTWY",
      "include_colab_link": true
    },
    "kernelspec": {
      "name": "python3",
      "display_name": "Python 3"
    },
    "language_info": {
      "name": "python"
    }
  },
  "cells": [
    {
      "cell_type": "markdown",
      "metadata": {
        "id": "view-in-github",
        "colab_type": "text"
      },
      "source": [
        "<a href=\"https://colab.research.google.com/github/Pratapkumarsingh01/learn_python/blob/main/start_coding.ipynb\" target=\"_parent\"><img src=\"https://colab.research.google.com/assets/colab-badge.svg\" alt=\"Open In Colab\"/></a>"
      ]
    },
    {
      "cell_type": "code",
      "execution_count": null,
      "metadata": {
        "colab": {
          "base_uri": "https://localhost:8080/"
        },
        "id": "KDFtyv744eEf",
        "outputId": "61fae549-9f3d-41b3-919a-96abb46920c4"
      },
      "outputs": [
        {
          "output_type": "stream",
          "name": "stdout",
          "text": [
            "hello world\n"
          ]
        }
      ],
      "source": [
        "print (\"hello world\")"
      ]
    },
    {
      "cell_type": "code",
      "source": [
        "print (\"happy teacher's day\")"
      ],
      "metadata": {
        "colab": {
          "base_uri": "https://localhost:8080/"
        },
        "id": "qkusgyyx5cAJ",
        "outputId": "75d8c837-0e05-4b7b-f4c9-6de41a50661a"
      },
      "execution_count": null,
      "outputs": [
        {
          "output_type": "stream",
          "name": "stdout",
          "text": [
            "happy teacher's day\n"
          ]
        }
      ]
    },
    {
      "cell_type": "code",
      "source": [
        "print ('''happy\n",
        "teacher's\n",
        "day''')"
      ],
      "metadata": {
        "colab": {
          "base_uri": "https://localhost:8080/"
        },
        "id": "EYGbS_Dd5y17",
        "outputId": "a5485105-6893-41c2-a7ae-f5718775eeb3"
      },
      "execution_count": null,
      "outputs": [
        {
          "output_type": "stream",
          "name": "stdout",
          "text": [
            "happy\n",
            "teacher's\n",
            "day\n"
          ]
        }
      ]
    },
    {
      "cell_type": "code",
      "source": [
        "print (2+10)"
      ],
      "metadata": {
        "colab": {
          "base_uri": "https://localhost:8080/"
        },
        "id": "cBd4c3Gz6N8h",
        "outputId": "feb49016-e003-424e-acc2-100bba279440"
      },
      "execution_count": null,
      "outputs": [
        {
          "output_type": "stream",
          "name": "stdout",
          "text": [
            "12\n"
          ]
        }
      ]
    },
    {
      "cell_type": "code",
      "source": [
        "x = \"bo cda\"\n",
        "y = 105\n",
        "\n",
        "print (x,y)"
      ],
      "metadata": {
        "colab": {
          "base_uri": "https://localhost:8080/"
        },
        "id": "xZlk4B-A6gGr",
        "outputId": "50549ed2-4244-42cd-89aa-f46a3309acd9"
      },
      "execution_count": null,
      "outputs": [
        {
          "output_type": "stream",
          "name": "stdout",
          "text": [
            "bo cda 105\n"
          ]
        }
      ]
    },
    {
      "cell_type": "code",
      "source": [
        "type (x\n",
        "    )"
      ],
      "metadata": {
        "colab": {
          "base_uri": "https://localhost:8080/"
        },
        "id": "rROpe-0g6zNh",
        "outputId": "7b06dd48-34cb-4bab-cea3-00092bbaac37"
      },
      "execution_count": null,
      "outputs": [
        {
          "output_type": "execute_result",
          "data": {
            "text/plain": [
              "str"
            ]
          },
          "metadata": {},
          "execution_count": 10
        }
      ]
    },
    {
      "cell_type": "code",
      "source": [
        "type (y)"
      ],
      "metadata": {
        "colab": {
          "base_uri": "https://localhost:8080/"
        },
        "id": "eioHA-wO7Cm_",
        "outputId": "64a2970a-4d1f-47b4-bb25-cf52efedba40"
      },
      "execution_count": null,
      "outputs": [
        {
          "output_type": "execute_result",
          "data": {
            "text/plain": [
              "int"
            ]
          },
          "metadata": {},
          "execution_count": 11
        }
      ]
    },
    {
      "cell_type": "code",
      "source": [
        "print (type (x), type (y))"
      ],
      "metadata": {
        "colab": {
          "base_uri": "https://localhost:8080/"
        },
        "id": "BWWKD7Qn7GW7",
        "outputId": "471637a9-7392-4c9c-8908-a07849fafa28"
      },
      "execution_count": null,
      "outputs": [
        {
          "output_type": "stream",
          "name": "stdout",
          "text": [
            "<class 'str'> <class 'int'>\n"
          ]
        }
      ]
    },
    {
      "cell_type": "code",
      "source": [
        "x,y,z = \"python\" , \"is\" , \"good\"\n",
        "\n",
        "print (x,y,z)"
      ],
      "metadata": {
        "colab": {
          "base_uri": "https://localhost:8080/"
        },
        "id": "EhLJBb3E7PJ-",
        "outputId": "1329add3-9c6b-43b8-c4cc-fa372fee5960"
      },
      "execution_count": null,
      "outputs": [
        {
          "output_type": "stream",
          "name": "stdout",
          "text": [
            "python is good\n"
          ]
        }
      ]
    },
    {
      "cell_type": "code",
      "source": [
        "x1 = \"10\"\n",
        "x2 = \"23\"\n",
        "y1 = x1 + x2\n",
        "y2 = x1%X2\n",
        "\n",
        "print (\"sum of\", x1, \"and\", x2, \"is\", y1)\n",
        "print(y2)"
      ],
      "metadata": {
        "colab": {
          "base_uri": "https://localhost:8080/",
          "height": 216
        },
        "id": "7r6475kL8l2a",
        "outputId": "49be3560-94bb-45f1-a1f3-8595eaed746e"
      },
      "execution_count": null,
      "outputs": [
        {
          "output_type": "error",
          "ename": "NameError",
          "evalue": "name 'X2' is not defined",
          "traceback": [
            "\u001b[0;31m---------------------------------------------------------------------------\u001b[0m",
            "\u001b[0;31mNameError\u001b[0m                                 Traceback (most recent call last)",
            "\u001b[0;32m<ipython-input-19-ff6e322d0124>\u001b[0m in \u001b[0;36m<cell line: 4>\u001b[0;34m()\u001b[0m\n\u001b[1;32m      2\u001b[0m \u001b[0mx2\u001b[0m \u001b[0;34m=\u001b[0m \u001b[0;34m\"23\"\u001b[0m\u001b[0;34m\u001b[0m\u001b[0;34m\u001b[0m\u001b[0m\n\u001b[1;32m      3\u001b[0m \u001b[0my1\u001b[0m \u001b[0;34m=\u001b[0m \u001b[0mx1\u001b[0m \u001b[0;34m+\u001b[0m \u001b[0mx2\u001b[0m\u001b[0;34m\u001b[0m\u001b[0;34m\u001b[0m\u001b[0m\n\u001b[0;32m----> 4\u001b[0;31m \u001b[0my2\u001b[0m \u001b[0;34m=\u001b[0m \u001b[0mx1\u001b[0m\u001b[0;34m%\u001b[0m\u001b[0mX2\u001b[0m\u001b[0;34m\u001b[0m\u001b[0;34m\u001b[0m\u001b[0m\n\u001b[0m\u001b[1;32m      5\u001b[0m \u001b[0;34m\u001b[0m\u001b[0m\n\u001b[1;32m      6\u001b[0m \u001b[0mprint\u001b[0m \u001b[0;34m(\u001b[0m\u001b[0;34m\"sum of\"\u001b[0m\u001b[0;34m,\u001b[0m \u001b[0mx1\u001b[0m\u001b[0;34m,\u001b[0m \u001b[0;34m\"and\"\u001b[0m\u001b[0;34m,\u001b[0m \u001b[0mx2\u001b[0m\u001b[0;34m,\u001b[0m \u001b[0;34m\"is\"\u001b[0m\u001b[0;34m,\u001b[0m \u001b[0my1\u001b[0m\u001b[0;34m)\u001b[0m\u001b[0;34m\u001b[0m\u001b[0;34m\u001b[0m\u001b[0m\n",
            "\u001b[0;31mNameError\u001b[0m: name 'X2' is not defined"
          ]
        }
      ]
    },
    {
      "cell_type": "code",
      "source": [
        "z = 2+3j\n",
        "print (z)"
      ],
      "metadata": {
        "colab": {
          "base_uri": "https://localhost:8080/"
        },
        "id": "4_vKsnHQ88t9",
        "outputId": "6c2c7f7b-ebbd-4b61-ed3e-014cb9f4ed18"
      },
      "execution_count": null,
      "outputs": [
        {
          "output_type": "stream",
          "name": "stdout",
          "text": [
            "(2+3j)\n"
          ]
        }
      ]
    },
    {
      "cell_type": "code",
      "source": [
        "x = (\"pratap\", 4,5,6,7,9)\n",
        "print (x)"
      ],
      "metadata": {
        "colab": {
          "base_uri": "https://localhost:8080/"
        },
        "id": "L6DJ14Qy-3Bl",
        "outputId": "d3eb2ead-79b8-4a2c-ca65-92e02b9fb24e"
      },
      "execution_count": null,
      "outputs": [
        {
          "output_type": "stream",
          "name": "stdout",
          "text": [
            "('pratap', 4, 5, 6, 7, 9)\n"
          ]
        }
      ]
    },
    {
      "cell_type": "code",
      "source": [
        "print (len(x))"
      ],
      "metadata": {
        "colab": {
          "base_uri": "https://localhost:8080/"
        },
        "id": "2e--g3qW_Dn-",
        "outputId": "45e558b5-6431-4855-ad6a-64835ae39e30"
      },
      "execution_count": null,
      "outputs": [
        {
          "output_type": "stream",
          "name": "stdout",
          "text": [
            "6\n"
          ]
        }
      ]
    },
    {
      "cell_type": "code",
      "source": [
        "x[1]"
      ],
      "metadata": {
        "colab": {
          "base_uri": "https://localhost:8080/"
        },
        "id": "raE3wTl-_N61",
        "outputId": "bdbf4d06-5e7e-4e6a-9504-92143b58cb06"
      },
      "execution_count": null,
      "outputs": [
        {
          "output_type": "execute_result",
          "data": {
            "text/plain": [
              "4"
            ]
          },
          "metadata": {},
          "execution_count": 24
        }
      ]
    },
    {
      "cell_type": "code",
      "source": [
        "x[0]"
      ],
      "metadata": {
        "colab": {
          "base_uri": "https://localhost:8080/",
          "height": 35
        },
        "id": "IGyOFUPm_bdm",
        "outputId": "6e36b395-0538-41ab-daf8-fd4818a0aadd"
      },
      "execution_count": null,
      "outputs": [
        {
          "output_type": "execute_result",
          "data": {
            "text/plain": [
              "'pratap'"
            ],
            "application/vnd.google.colaboratory.intrinsic+json": {
              "type": "string"
            }
          },
          "metadata": {},
          "execution_count": 25
        }
      ]
    },
    {
      "cell_type": "code",
      "source": [
        "x[-1]"
      ],
      "metadata": {
        "colab": {
          "base_uri": "https://localhost:8080/"
        },
        "id": "2MvGDVge_jZn",
        "outputId": "4983567d-803d-4e75-d797-134106ddee0f"
      },
      "execution_count": null,
      "outputs": [
        {
          "output_type": "execute_result",
          "data": {
            "text/plain": [
              "9"
            ]
          },
          "metadata": {},
          "execution_count": 26
        }
      ]
    },
    {
      "cell_type": "code",
      "source": [
        "x[-4]"
      ],
      "metadata": {
        "colab": {
          "base_uri": "https://localhost:8080/"
        },
        "id": "Y6NA00Y1_lfN",
        "outputId": "e0fe8d19-70dd-4ab4-8201-a83cb05f697c"
      },
      "execution_count": null,
      "outputs": [
        {
          "output_type": "execute_result",
          "data": {
            "text/plain": [
              "5"
            ]
          },
          "metadata": {},
          "execution_count": 28
        }
      ]
    },
    {
      "cell_type": "code",
      "source": [
        "x.count ('mosh')\n",
        "print (x)"
      ],
      "metadata": {
        "colab": {
          "base_uri": "https://localhost:8080/"
        },
        "id": "fd29g-0n_xKk",
        "outputId": "304e0a8c-4295-43b8-c5a1-adbc4119c7f1"
      },
      "execution_count": null,
      "outputs": [
        {
          "output_type": "stream",
          "name": "stdout",
          "text": [
            "('pratap', 4, 5, 6, 7, 9)\n"
          ]
        }
      ]
    },
    {
      "cell_type": "code",
      "source": [
        "x.insert(3,'jhon')\n",
        "print (x)"
      ],
      "metadata": {
        "colab": {
          "base_uri": "https://localhost:8080/",
          "height": 162
        },
        "id": "qA2rPLdfAVP_",
        "outputId": "31362bbc-2e4e-4ae2-b972-a6f6b3b7d3e3"
      },
      "execution_count": null,
      "outputs": [
        {
          "output_type": "error",
          "ename": "AttributeError",
          "evalue": "'tuple' object has no attribute 'insert'",
          "traceback": [
            "\u001b[0;31m---------------------------------------------------------------------------\u001b[0m",
            "\u001b[0;31mAttributeError\u001b[0m                            Traceback (most recent call last)",
            "\u001b[0;32m<ipython-input-34-0c2b48305371>\u001b[0m in \u001b[0;36m<cell line: 1>\u001b[0;34m()\u001b[0m\n\u001b[0;32m----> 1\u001b[0;31m \u001b[0mx\u001b[0m\u001b[0;34m.\u001b[0m\u001b[0minsert\u001b[0m\u001b[0;34m(\u001b[0m\u001b[0;36m3\u001b[0m\u001b[0;34m,\u001b[0m\u001b[0;34m'jhon'\u001b[0m\u001b[0;34m)\u001b[0m\u001b[0;34m\u001b[0m\u001b[0;34m\u001b[0m\u001b[0m\n\u001b[0m\u001b[1;32m      2\u001b[0m \u001b[0mprint\u001b[0m \u001b[0;34m(\u001b[0m\u001b[0mx\u001b[0m\u001b[0;34m)\u001b[0m\u001b[0;34m\u001b[0m\u001b[0;34m\u001b[0m\u001b[0m\n",
            "\u001b[0;31mAttributeError\u001b[0m: 'tuple' object has no attribute 'insert'"
          ]
        }
      ]
    },
    {
      "cell_type": "code",
      "source": [
        "c = input(\"please enter a number\")\n",
        "d = input (\"please again enter a number\")\n",
        "c = int(c)\n",
        "d = int(d)\n",
        "e = c+d\n",
        "print(\"sum of the given numbers is\", e)"
      ],
      "metadata": {
        "colab": {
          "base_uri": "https://localhost:8080/"
        },
        "id": "27wfAu5XA_cj",
        "outputId": "59333149-2e6f-4b60-da99-09c84d9b0f8b"
      },
      "execution_count": null,
      "outputs": [
        {
          "output_type": "stream",
          "name": "stdout",
          "text": [
            "please enter a number21\n",
            "please again enter a number23\n",
            "sum of the given numbers is 44\n"
          ]
        }
      ]
    },
    {
      "cell_type": "code",
      "source": [
        "a = 27\n",
        "b = 5\n",
        "print (a%b)"
      ],
      "metadata": {
        "colab": {
          "base_uri": "https://localhost:8080/"
        },
        "id": "nxQGnVUXIQP3",
        "outputId": "8ebced30-bbee-4707-fd51-0d4844bbab2e"
      },
      "execution_count": null,
      "outputs": [
        {
          "output_type": "stream",
          "name": "stdout",
          "text": [
            "2\n"
          ]
        }
      ]
    },
    {
      "cell_type": "code",
      "source": [
        "Given_number = int(input(\"enter a number\"))\n",
        "if a%2 == 0 :\n",
        "  print(a, \"is even number\")\n",
        "else:\n",
        "  print(a, \"is odd number\")"
      ],
      "metadata": {
        "colab": {
          "base_uri": "https://localhost:8080/",
          "height": 233
        },
        "id": "vIEH8NIKEmiY",
        "outputId": "8a257c2d-e937-41d6-a9fe-29791e010be4"
      },
      "execution_count": null,
      "outputs": [
        {
          "name": "stdout",
          "output_type": "stream",
          "text": [
            "enter a number2\n"
          ]
        },
        {
          "output_type": "error",
          "ename": "NameError",
          "evalue": "name 'a' is not defined",
          "traceback": [
            "\u001b[0;31m---------------------------------------------------------------------------\u001b[0m",
            "\u001b[0;31mNameError\u001b[0m                                 Traceback (most recent call last)",
            "\u001b[0;32m<ipython-input-1-0f574372d292>\u001b[0m in \u001b[0;36m<cell line: 2>\u001b[0;34m()\u001b[0m\n\u001b[1;32m      1\u001b[0m \u001b[0mGiven_number\u001b[0m \u001b[0;34m=\u001b[0m \u001b[0mint\u001b[0m\u001b[0;34m(\u001b[0m\u001b[0minput\u001b[0m\u001b[0;34m(\u001b[0m\u001b[0;34m\"enter a number\"\u001b[0m\u001b[0;34m)\u001b[0m\u001b[0;34m)\u001b[0m\u001b[0;34m\u001b[0m\u001b[0;34m\u001b[0m\u001b[0m\n\u001b[0;32m----> 2\u001b[0;31m \u001b[0;32mif\u001b[0m \u001b[0ma\u001b[0m\u001b[0;34m%\u001b[0m\u001b[0;36m2\u001b[0m \u001b[0;34m==\u001b[0m \u001b[0;36m0\u001b[0m \u001b[0;34m:\u001b[0m\u001b[0;34m\u001b[0m\u001b[0;34m\u001b[0m\u001b[0m\n\u001b[0m\u001b[1;32m      3\u001b[0m   \u001b[0mprint\u001b[0m\u001b[0;34m(\u001b[0m\u001b[0ma\u001b[0m\u001b[0;34m,\u001b[0m \u001b[0;34m\"is even number\"\u001b[0m\u001b[0;34m)\u001b[0m\u001b[0;34m\u001b[0m\u001b[0;34m\u001b[0m\u001b[0m\n\u001b[1;32m      4\u001b[0m \u001b[0;32melse\u001b[0m\u001b[0;34m:\u001b[0m\u001b[0;34m\u001b[0m\u001b[0;34m\u001b[0m\u001b[0m\n\u001b[1;32m      5\u001b[0m   \u001b[0mprint\u001b[0m\u001b[0;34m(\u001b[0m\u001b[0ma\u001b[0m\u001b[0;34m,\u001b[0m \u001b[0;34m\"is odd number\"\u001b[0m\u001b[0;34m)\u001b[0m\u001b[0;34m\u001b[0m\u001b[0;34m\u001b[0m\u001b[0m\n",
            "\u001b[0;31mNameError\u001b[0m: name 'a' is not defined"
          ]
        }
      ]
    },
    {
      "cell_type": "code",
      "source": [
        "x = [1,2,3,4,5,6,7]\n",
        "a = max(x)\n",
        "print(a)"
      ],
      "metadata": {
        "colab": {
          "base_uri": "https://localhost:8080/"
        },
        "id": "aHsmuY13MFKz",
        "outputId": "eeb4a4da-1818-4db3-ffd9-6664ffb76e91"
      },
      "execution_count": null,
      "outputs": [
        {
          "output_type": "stream",
          "name": "stdout",
          "text": [
            "7\n"
          ]
        }
      ]
    },
    {
      "cell_type": "code",
      "source": [
        "Given_number = int(input(\"enter a number\"))\n",
        "if a%2 == 0 :\n",
        "   print(a, \"is even number\")\n",
        "else:\n",
        "    print(a, \"is odd number\")\n"
      ],
      "metadata": {
        "id": "e519X7vuNa-p"
      },
      "execution_count": null,
      "outputs": []
    },
    {
      "cell_type": "code",
      "source": [
        "print (\"who is he\")"
      ],
      "metadata": {
        "id": "cKF6DdcaBvmK",
        "colab": {
          "base_uri": "https://localhost:8080/"
        },
        "outputId": "8540d7ed-87d9-43b2-c8e4-1d6c938f60aa"
      },
      "execution_count": null,
      "outputs": [
        {
          "output_type": "stream",
          "name": "stdout",
          "text": [
            "who is he\n"
          ]
        }
      ]
    },
    {
      "cell_type": "code",
      "source": [
        "print (2+5)"
      ],
      "metadata": {
        "colab": {
          "base_uri": "https://localhost:8080/"
        },
        "id": "ey2UzVooZifd",
        "outputId": "a464ee47-0556-4378-b183-94f93f9fdb07"
      },
      "execution_count": null,
      "outputs": [
        {
          "output_type": "stream",
          "name": "stdout",
          "text": [
            "7\n"
          ]
        }
      ]
    },
    {
      "cell_type": "code",
      "source": [
        "print (\"07\")"
      ],
      "metadata": {
        "colab": {
          "base_uri": "https://localhost:8080/"
        },
        "id": "xC31CuRgbzVk",
        "outputId": "08437a56-0ad4-4059-e964-f69a22a2878c"
      },
      "execution_count": null,
      "outputs": [
        {
          "output_type": "stream",
          "name": "stdout",
          "text": [
            "07\n"
          ]
        }
      ]
    },
    {
      "cell_type": "code",
      "source": [
        "print (9+12)"
      ],
      "metadata": {
        "id": "BB2AlqH4dmVv",
        "colab": {
          "base_uri": "https://localhost:8080/"
        },
        "outputId": "7fc0d897-9b90-4fe3-f210-ed6db635fef7"
      },
      "execution_count": null,
      "outputs": [
        {
          "output_type": "stream",
          "name": "stdout",
          "text": [
            "21\n"
          ]
        }
      ]
    },
    {
      "cell_type": "code",
      "source": [
        "print (\"hello world\")"
      ],
      "metadata": {
        "id": "_kajvlRTZdPb",
        "colab": {
          "base_uri": "https://localhost:8080/"
        },
        "outputId": "976dd06b-c4a1-4513-dfb1-a122e754aabc"
      },
      "execution_count": null,
      "outputs": [
        {
          "output_type": "stream",
          "name": "stdout",
          "text": [
            "hello world\n"
          ]
        }
      ]
    },
    {
      "cell_type": "code",
      "source": [],
      "metadata": {
        "id": "4So6BtTgIvH2"
      },
      "execution_count": null,
      "outputs": []
    },
    {
      "cell_type": "code",
      "source": [
        "print (22+17)"
      ],
      "metadata": {
        "colab": {
          "base_uri": "https://localhost:8080/"
        },
        "id": "id706JFII5zR",
        "outputId": "2674f0ac-17f6-45c0-8b02-25bc45a9cf90"
      },
      "execution_count": null,
      "outputs": [
        {
          "output_type": "stream",
          "name": "stdout",
          "text": [
            "39\n"
          ]
        }
      ]
    },
    {
      "cell_type": "code",
      "source": [
        "print (\"pratapkumarsingh01\")"
      ],
      "metadata": {
        "colab": {
          "base_uri": "https://localhost:8080/"
        },
        "id": "JxLzSDFzI_D8",
        "outputId": "7b48ee63-239a-49eb-de0c-1716c96a8256"
      },
      "execution_count": null,
      "outputs": [
        {
          "output_type": "stream",
          "name": "stdout",
          "text": [
            "pratapkumarsingh01\n"
          ]
        }
      ]
    },
    {
      "cell_type": "code",
      "source": [
        "c = input(\"please enter a number\")\n",
        "d = input (\"please again enter a number\")\n",
        "c = int(c)\n",
        "d = int(d)\n",
        "e = c+d\n",
        "print(\"sum of the given numbers is\", e)"
      ],
      "metadata": {
        "colab": {
          "base_uri": "https://localhost:8080/"
        },
        "id": "GmM606y-J_k9",
        "outputId": "929edcf2-6447-4d45-b4f6-8fcb2f61606f"
      },
      "execution_count": null,
      "outputs": [
        {
          "output_type": "stream",
          "name": "stdout",
          "text": [
            "please enter a number20\n",
            "please again enter a number12\n",
            "sum of the given numbers is 32\n"
          ]
        }
      ]
    },
    {
      "cell_type": "code",
      "source": [
        "number = int(input(\"Enter a number: \"))\n",
        "if number > 0:\n",
        "    print(\"The number is positive.\")\n",
        "elif number < 0:\n",
        "    print(\"The number is negative.\")\n",
        "else:\n",
        "    print(\"The number is zero.\")\n"
      ],
      "metadata": {
        "id": "i3v1DVN8KRUd",
        "colab": {
          "base_uri": "https://localhost:8080/"
        },
        "outputId": "b30cdb3b-56af-4e6f-d6b1-9e8f24e8ae3f"
      },
      "execution_count": null,
      "outputs": [
        {
          "output_type": "stream",
          "name": "stdout",
          "text": [
            "Enter a number: 6\n",
            "The number is positive.\n"
          ]
        }
      ]
    },
    {
      "cell_type": "code",
      "source": [
        "n=int(input(\"enter a number\"))\n",
        "if(n<0):\n",
        "  print(\"no. is negative\")\n",
        "else:\n",
        "  print(\"no. is positive\")"
      ],
      "metadata": {
        "colab": {
          "base_uri": "https://localhost:8080/"
        },
        "id": "L4RFMSAG_il0",
        "outputId": "657690a2-0e4f-4744-cca3-2f4616daa061"
      },
      "execution_count": null,
      "outputs": [
        {
          "output_type": "stream",
          "name": "stdout",
          "text": [
            "enter a number4\n",
            "no. is positive\n"
          ]
        }
      ]
    },
    {
      "cell_type": "code",
      "source": [
        "a = int(input(\"Enter your age:\"))\n",
        "if a>=18:\n",
        "    print(\"You are eligible to vote\")\n",
        "\n",
        "else:\n",
        "    print(\"You are not eligible to vote\")"
      ],
      "metadata": {
        "colab": {
          "base_uri": "https://localhost:8080/"
        },
        "id": "MBHM8DsyA_IO",
        "outputId": "48c6951b-1567-4cfc-9a0a-694d6f2b433d"
      },
      "execution_count": null,
      "outputs": [
        {
          "output_type": "stream",
          "name": "stdout",
          "text": [
            "Enter your age:31\n",
            "You are eligible to vote\n"
          ]
        }
      ]
    },
    {
      "cell_type": "code",
      "source": [
        "number = int(input(\"enter a number\"))\n",
        "if number > 0:\n",
        "   print (number, \"is positive\")\n",
        "else:\n",
        "     print (number, \"is negative\")"
      ],
      "metadata": {
        "colab": {
          "base_uri": "https://localhost:8080/"
        },
        "id": "BHppDc2pBW0A",
        "outputId": "6badd95c-a248-4639-cac5-dd67f64abb2a"
      },
      "execution_count": null,
      "outputs": [
        {
          "output_type": "stream",
          "name": "stdout",
          "text": [
            "enter a number4\n",
            "4 is positive\n"
          ]
        }
      ]
    },
    {
      "cell_type": "code",
      "source": [
        "x = int(input(\"enter a number\"))\n",
        "print (\"you have entered\", x)"
      ],
      "metadata": {
        "colab": {
          "base_uri": "https://localhost:8080/"
        },
        "id": "cr1O4vGzD2uu",
        "outputId": "e476b3b6-5029-43c8-9c60-fb8905e793aa"
      },
      "execution_count": null,
      "outputs": [
        {
          "output_type": "stream",
          "name": "stdout",
          "text": [
            "enter a number9\n",
            "you have entered 9\n"
          ]
        }
      ]
    },
    {
      "cell_type": "code",
      "source": [
        "x = [ 'pratap', 1,3,5,7,3,'shubham' ]\n",
        "y = [1,2,5,3,3]\n",
        "x.append ('123')\n",
        "x.insert(3,\"jhon\")\n",
        "print(x)\n",
        "print((x))\n",
        "x.copy"
      ],
      "metadata": {
        "colab": {
          "base_uri": "https://localhost:8080/"
        },
        "id": "0P1znn7AFFB6",
        "outputId": "96b3c5c2-35f2-4c3e-be25-75fca7e2b4d1"
      },
      "execution_count": null,
      "outputs": [
        {
          "output_type": "stream",
          "name": "stdout",
          "text": [
            "['pratap', 1, 3, 'jhon', 5, 7, 3, 'shubham', '123']\n",
            "['pratap', 1, 3, 'jhon', 5, 7, 3, 'shubham', '123']\n"
          ]
        },
        {
          "output_type": "execute_result",
          "data": {
            "text/plain": [
              "<function list.copy()>"
            ]
          },
          "metadata": {},
          "execution_count": 23
        }
      ]
    },
    {
      "cell_type": "code",
      "source": [
        "print (1!=1)"
      ],
      "metadata": {
        "colab": {
          "base_uri": "https://localhost:8080/"
        },
        "id": "vk3w_WYvJjXG",
        "outputId": "6754facc-4554-4af9-cd45-880a959a3b75"
      },
      "execution_count": null,
      "outputs": [
        {
          "output_type": "stream",
          "name": "stdout",
          "text": [
            "False\n"
          ]
        }
      ]
    },
    {
      "cell_type": "code",
      "source": [
        "print (1==1)"
      ],
      "metadata": {
        "colab": {
          "base_uri": "https://localhost:8080/"
        },
        "id": "D_fPMarxRLIT",
        "outputId": "5648ee70-9022-4586-fb31-0d11410c4053"
      },
      "execution_count": null,
      "outputs": [
        {
          "output_type": "stream",
          "name": "stdout",
          "text": [
            "True\n"
          ]
        }
      ]
    },
    {
      "cell_type": "code",
      "source": [
        "print (12+17)"
      ],
      "metadata": {
        "colab": {
          "base_uri": "https://localhost:8080/"
        },
        "id": "2UYBwUM1wqBz",
        "outputId": "eb20be42-2705-483b-9dbd-f11fbe8625ab"
      },
      "execution_count": null,
      "outputs": [
        {
          "output_type": "stream",
          "name": "stdout",
          "text": [
            "29\n"
          ]
        }
      ]
    },
    {
      "cell_type": "code",
      "source": [
        "print (12-10)"
      ],
      "metadata": {
        "id": "489UANkpxDBQ"
      },
      "execution_count": null,
      "outputs": []
    },
    {
      "cell_type": "code",
      "source": [
        "x = 23\n",
        "y = 12\n",
        "z = (type (x) ,type  (y))\n",
        "print (z)"
      ],
      "metadata": {
        "colab": {
          "base_uri": "https://localhost:8080/"
        },
        "id": "RA0T80A9789y",
        "outputId": "a267ca32-1af3-4068-b25b-7ff7427440d0"
      },
      "execution_count": null,
      "outputs": [
        {
          "output_type": "stream",
          "name": "stdout",
          "text": [
            "(<class 'int'>, <class 'int'>)\n"
          ]
        }
      ]
    },
    {
      "cell_type": "code",
      "source": [],
      "metadata": {
        "id": "c4wbESf8-8BJ"
      },
      "execution_count": null,
      "outputs": []
    },
    {
      "cell_type": "code",
      "source": [
        "x = 23\n",
        "y = 12\n",
        "z = (x + y)\n",
        "print (z)"
      ],
      "metadata": {
        "colab": {
          "base_uri": "https://localhost:8080/"
        },
        "id": "TK9cam4h_38F",
        "outputId": "e4d07ff5-c1d3-4e82-cd6d-e21bda4d5037"
      },
      "execution_count": null,
      "outputs": [
        {
          "output_type": "stream",
          "name": "stdout",
          "text": [
            "35\n"
          ]
        }
      ]
    },
    {
      "cell_type": "code",
      "source": [],
      "metadata": {
        "id": "cUwHKtbF_7tJ"
      },
      "execution_count": null,
      "outputs": []
    },
    {
      "cell_type": "code",
      "source": [
        "word =\"pratap\"\n",
        "if word == word[::-1]:\n",
        "  print(word, \"is a palindrome\")\n",
        "else:\n",
        "    print(word, \"is not a palindrome\")"
      ],
      "metadata": {
        "colab": {
          "base_uri": "https://localhost:8080/"
        },
        "id": "MYQ9f7vQEeTZ",
        "outputId": "231764c7-ce3d-45dd-bffb-6d27e1de2bd8"
      },
      "execution_count": null,
      "outputs": [
        {
          "output_type": "stream",
          "name": "stdout",
          "text": [
            "pratap is not a palindrome\n"
          ]
        }
      ]
    },
    {
      "cell_type": "code",
      "source": [
        "marks=int(input(\"enter total marks obtained :\"))\n",
        "if marks<60:\n",
        "    print(\"Grade : E\")\n",
        "\n",
        "elif marks<70:\n",
        "    print(\"Grade : D \")\n",
        "\n",
        "elif marks<80 :\n",
        "    print(\"Grade : C\")\n",
        "\n",
        "elif marks<90 :\n",
        "    print(\"Grade : B\")\n",
        "\n",
        "elif marks<100:\n",
        "   print(\"Grade : A\")\n",
        "else:\n",
        "    print(\"F\")"
      ],
      "metadata": {
        "colab": {
          "base_uri": "https://localhost:8080/"
        },
        "id": "Jqk6sYNMEhqE",
        "outputId": "5f605e6b-6f62-4ba3-f251-051106e588a9"
      },
      "execution_count": null,
      "outputs": [
        {
          "output_type": "stream",
          "name": "stdout",
          "text": [
            "enter total marks obtained :45\n",
            "Grade : E\n"
          ]
        }
      ]
    },
    {
      "cell_type": "code",
      "source": [
        "side1 = int(input(\"enter first side of the triangle\"))\n",
        "side2 = int(input(\"enter second side of the triangle\"))\n",
        "side3 = int(input(\"enter third side of the triangle\"))\n",
        "   #line4 for equilateral triangle....\n",
        "if side1 == side2 == side3:\n",
        "     print (\"this triangle is equilateral triangle\")\n",
        "   #line7 for isosceles triangle....\n",
        "   Elif side1==side2 or side2==side3 or side3==side1:\n",
        "        print (\"this triangle is isosceles triangle\")\n",
        "\n",
        "else:\n",
        "      print(\"This is not a valid triangle.\")"
      ],
      "metadata": {
        "id": "jpt6ZZPQJJfr",
        "colab": {
          "base_uri": "https://localhost:8080/",
          "height": 108
        },
        "outputId": "ae57622d-9f9f-40bf-ce75-f412bc6d07d7"
      },
      "execution_count": null,
      "outputs": [
        {
          "output_type": "error",
          "ename": "IndentationError",
          "evalue": "unindent does not match any outer indentation level (<tokenize>, line 8)",
          "traceback": [
            "\u001b[0;36m  File \u001b[0;32m\"<tokenize>\"\u001b[0;36m, line \u001b[0;32m8\u001b[0m\n\u001b[0;31m    Elif side1==side2 or side2==side3 or side3==side1:\u001b[0m\n\u001b[0m    ^\u001b[0m\n\u001b[0;31mIndentationError\u001b[0m\u001b[0;31m:\u001b[0m unindent does not match any outer indentation level\n"
          ]
        }
      ]
    },
    {
      "cell_type": "code",
      "source": [
        "side1 = int(input(\"Enter the first side of the triangle: \"))\n",
        "side2 = int(input(\"Enter the second side of the triangle: \"))\n",
        "side3 = int(input(\"Enter the third side of the triangle: \"))\n",
        "\n",
        "if (side1 + side2 > side3) and (side1 + side3 > side2) and (side2 + side3 > side1):\n",
        "\n",
        "    if side1 == side2 == side3:\n",
        "        print(\"This triangle is an equilateral triangle.\")\n",
        "\n",
        "    elif side1 == side2 or side2 == side3 or side3 == side1:\n",
        "        print(\"This triangle is an isosceles triangle.\")\n",
        "\n",
        "    else:\n",
        "        print(\"This triangle is a scalene triangle.\")\n",
        "else:\n",
        "    print(\"This is not a valid triangle.\")\n"
      ],
      "metadata": {
        "id": "n0qr_G6bLlLb",
        "colab": {
          "base_uri": "https://localhost:8080/"
        },
        "outputId": "2dad82a0-c18e-4b9c-e1bd-1baf96fa4ab3"
      },
      "execution_count": null,
      "outputs": [
        {
          "output_type": "stream",
          "name": "stdout",
          "text": [
            "Enter the first side of the triangle: 12\n",
            "Enter the second side of the triangle: 12\n",
            "Enter the third side of the triangle: 12\n",
            "This triangle is an equilateral triangle.\n"
          ]
        }
      ]
    },
    {
      "cell_type": "code",
      "source": [
        "print (\"tech-tonic\")"
      ],
      "metadata": {
        "id": "K1cKofHLaE8c",
        "colab": {
          "base_uri": "https://localhost:8080/"
        },
        "outputId": "e406289e-b22a-4b67-c222-28ba20754b62"
      },
      "execution_count": null,
      "outputs": [
        {
          "output_type": "stream",
          "name": "stdout",
          "text": [
            "tech-tonic\n"
          ]
        }
      ]
    },
    {
      "cell_type": "code",
      "source": [
        "x = [ 'pratap', 1,3,5,7,3,'shubham' ]\n",
        "y = [1,2,5,3,3]\n",
        "x.append ('123')\n",
        "x.insert(3,\"pratap\")\n",
        "print(x)\n",
        "print((x))\n",
        "x.copy"
      ],
      "metadata": {
        "colab": {
          "base_uri": "https://localhost:8080/"
        },
        "id": "BBQlzGK4ffcc",
        "outputId": "b933247d-23ac-4523-e727-d02b6042ac9c"
      },
      "execution_count": null,
      "outputs": [
        {
          "output_type": "stream",
          "name": "stdout",
          "text": [
            "['pratap', 1, 3, 'pratap', 5, 7, 3, 'shubham', '123']\n",
            "['pratap', 1, 3, 'pratap', 5, 7, 3, 'shubham', '123']\n"
          ]
        },
        {
          "output_type": "execute_result",
          "data": {
            "text/plain": [
              "<function list.copy()>"
            ]
          },
          "metadata": {},
          "execution_count": 1
        }
      ]
    },
    {
      "cell_type": "code",
      "source": [
        "Given_number = int(input(\"enter a number\"))\n",
        "if a%2 == 0 :\n",
        "   print(a, \"is even number\")\n",
        "else:\n",
        "    print(a, \"is odd number\")\n"
      ],
      "metadata": {
        "id": "IumkaOMwCr0p"
      },
      "execution_count": null,
      "outputs": []
    },
    {
      "cell_type": "code",
      "source": [
        "print (12-10)"
      ],
      "metadata": {
        "id": "usnzhcvLQVBi",
        "colab": {
          "base_uri": "https://localhost:8080/"
        },
        "outputId": "ec940395-cc4b-40f3-b067-a565794d64e9"
      },
      "execution_count": null,
      "outputs": [
        {
          "output_type": "stream",
          "name": "stdout",
          "text": [
            "2\n"
          ]
        }
      ]
    },
    {
      "cell_type": "code",
      "source": [
        "print (13==14)"
      ],
      "metadata": {
        "colab": {
          "base_uri": "https://localhost:8080/"
        },
        "id": "QOTSfgrhkz-g",
        "outputId": "22324290-38d0-40c5-8b89-58d4aab1d2f8"
      },
      "execution_count": null,
      "outputs": [
        {
          "output_type": "stream",
          "name": "stdout",
          "text": [
            "False\n"
          ]
        }
      ]
    },
    {
      "cell_type": "code",
      "source": [
        "print (17+114)"
      ],
      "metadata": {
        "colab": {
          "base_uri": "https://localhost:8080/"
        },
        "id": "S1thgZg9k8CK",
        "outputId": "f01830fe-aa8e-42c5-e05c-693b5703a216"
      },
      "execution_count": null,
      "outputs": [
        {
          "output_type": "stream",
          "name": "stdout",
          "text": [
            "131\n"
          ]
        }
      ]
    },
    {
      "cell_type": "code",
      "source": [
        "Given_number = int(input(\"enter a number\"))\n",
        "if a%2 == 0 :\n",
        "   print(a, \"is even number\")\n",
        "else:\n",
        "    print(a, \"is odd number\")"
      ],
      "metadata": {
        "id": "rcDHjCxWlA1N"
      },
      "execution_count": null,
      "outputs": []
    },
    {
      "cell_type": "code",
      "source": [
        "Given_number = int(input(\"enter a number\"))\n",
        "if a%2 == 0:\n",
        "   print(a, \"is even number\")\n",
        " else:\n",
        "    print(a, \"is odd number\")"
      ],
      "metadata": {
        "id": "yV6n6bbKg-11",
        "colab": {
          "base_uri": "https://localhost:8080/",
          "height": 108
        },
        "outputId": "c6fb124d-83c3-4277-94b7-26d6ecc9e9fa"
      },
      "execution_count": null,
      "outputs": [
        {
          "output_type": "error",
          "ename": "IndentationError",
          "evalue": "unindent does not match any outer indentation level (<tokenize>, line 4)",
          "traceback": [
            "\u001b[0;36m  File \u001b[0;32m\"<tokenize>\"\u001b[0;36m, line \u001b[0;32m4\u001b[0m\n\u001b[0;31m    else:\u001b[0m\n\u001b[0m    ^\u001b[0m\n\u001b[0;31mIndentationError\u001b[0m\u001b[0;31m:\u001b[0m unindent does not match any outer indentation level\n"
          ]
        }
      ]
    },
    {
      "cell_type": "code",
      "source": [
        "#writing a program for cheching is it a square or not?\n",
        "\n",
        "length1 = int(input(\"please enter the length 1 in CM\"))\n",
        "length2 = int(input(\"please enter the length 2 in CM\"))\n",
        "breadth1 = int(input(\"please enter the breadth 1 in CM\"))\n",
        "breadth2 = int(input(\"please enter the breadth 2 in cm\"))\n",
        "\n",
        "\n",
        "if  length1 == length2 == breadth1 == breadth2:\n",
        "   print (\"its a square\")\n",
        "else:\n",
        "   print (\"its not a square\")\n",
        "\n"
      ],
      "metadata": {
        "colab": {
          "base_uri": "https://localhost:8080/"
        },
        "id": "XPsjRhMcXrwC",
        "outputId": "81f8e54f-257e-48e3-ca51-f7ce272c3db9"
      },
      "execution_count": null,
      "outputs": [
        {
          "output_type": "stream",
          "name": "stdout",
          "text": [
            "please enter the length 1 in CM12\n",
            "please enter the length 2 in CM12\n",
            "please enter the breadth 1 in CM12\n",
            "please enter the breadth 2 in cm12\n",
            "its a square\n"
          ]
        }
      ]
    },
    {
      "cell_type": "code",
      "source": [
        "#writng a program for checking is it a rectangle or not?\n",
        "\n",
        "length1 = int(input(\"please enter the length 1 in CM\"))\n",
        "length2 = int(input(\"please enter the length 2 in CM\"))\n",
        "breadth1 = int(input(\"please enter the breadth 1 in CM\"))\n",
        "breadth2 = int(input(\"please enter the breadth 2 in cm\"))\n",
        "\n",
        "if  length1 == length2 and breadth1 == breadth2:\n",
        "   print (\"its a perfect rectangle\")\n",
        "\n",
        "else:\n",
        "  print (\"its not a perfect rectangle\")"
      ],
      "metadata": {
        "colab": {
          "base_uri": "https://localhost:8080/"
        },
        "id": "RcbLwd2Pap-a",
        "outputId": "48682fed-caa9-4c92-b9d4-6a8713055a9e"
      },
      "execution_count": null,
      "outputs": [
        {
          "output_type": "stream",
          "name": "stdout",
          "text": [
            "please enter the length 1 in CM17\n",
            "please enter the length 2 in CM13\n",
            "please enter the breadth 1 in CM14\n",
            "please enter the breadth 2 in cm13\n",
            "its not a perfect rectangle\n"
          ]
        }
      ]
    },
    {
      "cell_type": "code",
      "source": [
        "#writng a program for checking is it a triangle or not?\n",
        "\n",
        "angle1 = int(input(\"please enter the angle 1 in degree\"))\n",
        "angle2 = int(input(\"please enter the angle 2 in degree\"))\n",
        "angle3 = int(input(\"please enter the angle 3 in degree\"))\n",
        "\n",
        "if  angle1 + angle2 + angle3 == 180:\n",
        "   print (\"its a triangle\")\n",
        "\n",
        "else:\n",
        "  print (\"its not a triangle\")\n"
      ],
      "metadata": {
        "colab": {
          "base_uri": "https://localhost:8080/"
        },
        "id": "zYnHbbyrdiRT",
        "outputId": "3b6bc99c-8349-48c8-df5d-0176403731b0"
      },
      "execution_count": null,
      "outputs": [
        {
          "output_type": "stream",
          "name": "stdout",
          "text": [
            "please enter the angle 1 in degree60\n",
            "please enter the angle 2 in degree42\n",
            "please enter the angle 3 in degree88\n",
            "its not a triangle\n"
          ]
        }
      ]
    },
    {
      "cell_type": "code",
      "source": [
        "#writng a program for checking is it a triangle or not?\n",
        "\n",
        "angle1 = int(input(\"please enter the angle 1 in degree\"))\n",
        "angle2 = int(input(\"please enter the angle 2 in degree\"))\n",
        "angle3 = int(input(\"please enter the angle 3 in degree\"))\n",
        "\n",
        "if  angle1 + angle2 + angle3 == 180:\n",
        "   print (\"its a triangle\")\n",
        "\n",
        "else:\n",
        "  print (\"its not a triangle\")"
      ],
      "metadata": {
        "id": "YcuUysTtsF3R"
      },
      "execution_count": null,
      "outputs": []
    },
    {
      "cell_type": "code",
      "source": [
        "#writing a program for checking is it a rectangle\n",
        "\n",
        "side1 = int(input(\"please enter the side 1 in CM\"))\n",
        "side2 = int(input(\"please enter the side 2 in CM\"))\n",
        "side3 = int(input(\"please enter the side 3 in CM\"))\n",
        "\n",
        "if"
      ],
      "metadata": {
        "id": "8GP1dZjchc6M"
      },
      "execution_count": null,
      "outputs": []
    },
    {
      "cell_type": "code",
      "source": [
        "# lcm of two no:\n",
        "a = int(input(\"enter a no\"))\n",
        "b = int(input(\"enter other no\"))\n",
        "lis1 =[]\n",
        "lis2 =[]\n",
        "i =1\n",
        "while( i<=a):\n",
        "  if(a%i==0):\n",
        "    c = lis1.append(i)\n",
        "j =1\n",
        "while(j<=b):\n",
        "  if(b%j==0):\n",
        "    d = lis2.append(j)\n",
        "print(c,\"\\n\",d)\n",
        "e = list(set(lis1) or set (lis2))\n",
        "print(e)"
      ],
      "metadata": {
        "colab": {
          "base_uri": "https://localhost:8080/"
        },
        "id": "eggVPJsts3Ps",
        "outputId": "402d2cbf-7355-444a-dab8-43580b44330d"
      },
      "execution_count": null,
      "outputs": [
        {
          "name": "stdout",
          "output_type": "stream",
          "text": [
            "enter a no14\n",
            "enter other no14\n"
          ]
        }
      ]
    },
    {
      "cell_type": "code",
      "source": [
        "def find_factors(a):\n",
        "    factors = []\n",
        "    for i in range(1, a + 1):\n",
        "        if a % i == 0:\n",
        "            factors.append(i)\n",
        "    return factors\n",
        "\n",
        "def find_lcm(a, b):\n",
        "    factors_a = find_factors(a)\n",
        "    factors_b = find_factors(b)\n",
        "    common_factors = list(set(factors_a) & set(factors_b))\n",
        "    return common_factors\n",
        "\n",
        "a = int(input(\"Enter a number: \"))\n",
        "b = int(input(\"Enter another number: \"))\n",
        "\n",
        "lcm_factors = find_lcm(a, b)\n",
        "print(lcm_factors)"
      ],
      "metadata": {
        "id": "yJQL0QNjs4jc",
        "outputId": "31ccd3a2-cac3-495a-a11f-8eaf00c1b3d0",
        "colab": {
          "base_uri": "https://localhost:8080/"
        }
      },
      "execution_count": null,
      "outputs": [
        {
          "output_type": "stream",
          "name": "stdout",
          "text": [
            "Enter a number: 12\n",
            "Enter another number: 12\n",
            "[1, 2, 3, 4, 6, 12]\n"
          ]
        }
      ]
    },
    {
      "cell_type": "code",
      "source": [
        "number = int(input(\"please enter your birth date\"))\n",
        "\n",
        "\n",
        "if number > 1 and number < 31:\n",
        "  if number == 9:\n",
        "    print (\"you are the aura my friend\")\n",
        "  else:\n",
        "    print (\"aura -100000\")\n",
        "\n",
        "else :\n",
        "    print(\"please enter a valid birth date\")"
      ],
      "metadata": {
        "id": "KUuyTusRyHTu",
        "colab": {
          "base_uri": "https://localhost:8080/"
        },
        "outputId": "f23e3d3b-52c2-416d-c292-963930f5df5a"
      },
      "execution_count": null,
      "outputs": [
        {
          "output_type": "stream",
          "name": "stdout",
          "text": [
            "please enter your birth date9\n",
            "you are the aura my friend\n"
          ]
        }
      ]
    },
    {
      "cell_type": "code",
      "source": [],
      "metadata": {
        "id": "K81cmeKSGGv1"
      },
      "execution_count": null,
      "outputs": []
    }
  ]
}